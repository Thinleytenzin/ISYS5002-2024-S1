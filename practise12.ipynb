{
  "nbformat": 4,
  "nbformat_minor": 0,
  "metadata": {
    "colab": {
      "provenance": [],
      "authorship_tag": "ABX9TyMVYTFAQZJGgRULab0Of78U",
      "include_colab_link": true
    },
    "kernelspec": {
      "name": "python3",
      "display_name": "Python 3"
    },
    "language_info": {
      "name": "python"
    }
  },
  "cells": [
    {
      "cell_type": "markdown",
      "metadata": {
        "id": "view-in-github",
        "colab_type": "text"
      },
      "source": [
        "<a href=\"https://colab.research.google.com/github/Thinleytenzin/ISYS5002-2024-S1/blob/main/practise12.ipynb\" target=\"_parent\"><img src=\"https://colab.research.google.com/assets/colab-badge.svg\" alt=\"Open In Colab\"/></a>"
      ]
    },
    {
      "cell_type": "code",
      "execution_count": 1,
      "metadata": {
        "id": "siAp75o1jCLg"
      },
      "outputs": [],
      "source": [
        "import matplotlib.pyplot as plt\n"
      ]
    },
    {
      "cell_type": "markdown",
      "source": [
        "matplotlib.pyplot is imported, which is a plotting library used for creating visualizations like graphs and charts. While it is imported here, it is not used in the provided code snippet."
      ],
      "metadata": {
        "id": "UNf1vCa0jkAu"
      }
    },
    {
      "cell_type": "code",
      "source": [
        "def input_energy_data():\n"
      ],
      "metadata": {
        "colab": {
          "base_uri": "https://localhost:8080/",
          "height": 108
        },
        "id": "sSTQZmSXjpqn",
        "outputId": "31dd508d-4b6e-4c71-c58a-303a45235e06"
      },
      "execution_count": 3,
      "outputs": [
        {
          "output_type": "error",
          "ename": "SyntaxError",
          "evalue": "incomplete input (<ipython-input-3-87d49f35f2f8>, line 1)",
          "traceback": [
            "\u001b[0;36m  File \u001b[0;32m\"<ipython-input-3-87d49f35f2f8>\"\u001b[0;36m, line \u001b[0;32m1\u001b[0m\n\u001b[0;31m    def input_energy_data():\u001b[0m\n\u001b[0m                            ^\u001b[0m\n\u001b[0;31mSyntaxError\u001b[0m\u001b[0;31m:\u001b[0m incomplete input\n"
          ]
        }
      ]
    },
    {
      "cell_type": "markdown",
      "source": [
        "This function is used to collect energy consumption data from the user for each month of the year."
      ],
      "metadata": {
        "id": "ElncdGVEjsZF"
      }
    },
    {
      "cell_type": "code",
      "source": [
        "data = []\n"
      ],
      "metadata": {
        "id": "r3Xsn9--jxiE"
      },
      "execution_count": 4,
      "outputs": []
    },
    {
      "cell_type": "markdown",
      "source": [
        "An empty list named data is created to store the energy consumption records for each month."
      ],
      "metadata": {
        "id": "01m9DQ4TkKXN"
      }
    },
    {
      "cell_type": "code",
      "source": [
        "months = ['January', 'February', 'March', 'April', 'May', 'June', 'July', 'August', 'September', 'October', 'November', 'December']\n"
      ],
      "metadata": {
        "id": "wxffRbaIkMQH"
      },
      "execution_count": 5,
      "outputs": []
    },
    {
      "cell_type": "markdown",
      "source": [
        "This list contains the names of all twelve months of the year. It is used to prompt the user for input for each month."
      ],
      "metadata": {
        "id": "Y8GRwPNckP7w"
      }
    },
    {
      "cell_type": "code",
      "source": [
        "for month in months:\n"
      ],
      "metadata": {
        "colab": {
          "base_uri": "https://localhost:8080/",
          "height": 108
        },
        "id": "_QZfSrohlHiQ",
        "outputId": "8d0ff8dc-d7d3-40ef-d44c-bbe579dec586"
      },
      "execution_count": 6,
      "outputs": [
        {
          "output_type": "error",
          "ename": "SyntaxError",
          "evalue": "incomplete input (<ipython-input-6-91d836a3b9f7>, line 1)",
          "traceback": [
            "\u001b[0;36m  File \u001b[0;32m\"<ipython-input-6-91d836a3b9f7>\"\u001b[0;36m, line \u001b[0;32m1\u001b[0m\n\u001b[0;31m    for month in months:\u001b[0m\n\u001b[0m                        ^\u001b[0m\n\u001b[0;31mSyntaxError\u001b[0m\u001b[0;31m:\u001b[0m incomplete input\n"
          ]
        }
      ]
    },
    {
      "cell_type": "markdown",
      "source": [
        "A for loop is used to iterate over each month in the months list."
      ],
      "metadata": {
        "id": "NmhR3-9BlI2j"
      }
    },
    {
      "cell_type": "code",
      "source": [
        "print(f\"Enter energy consumption data for {month}:\")\n",
        "electricity = float(input(\"Electricity usage (kWh): \"))\n",
        "gas = float(input(\"Gas usage (cubic meters): \"))\n",
        "water = float(input(\"Water usage (cubic meters): \"))\n"
      ],
      "metadata": {
        "id": "Er2sSZUGlO1D"
      },
      "execution_count": null,
      "outputs": []
    },
    {
      "cell_type": "markdown",
      "source": [
        "For each month, the user is prompted to enter energy consumption data for electricity, gas, and water.\n",
        "input() is used to capture user input, and float() converts the input into a floating-point number, which allows for decimal values."
      ],
      "metadata": {
        "id": "UuAlda8dlTZk"
      }
    },
    {
      "cell_type": "code",
      "source": [
        "data.append({'Month': month, 'Electricity': electricity, 'Gas': gas, 'Water': water})\n"
      ],
      "metadata": {
        "id": "BB66pK8jlWlL"
      },
      "execution_count": null,
      "outputs": []
    },
    {
      "cell_type": "markdown",
      "source": [
        "A dictionary is created for each month's data, which includes the month name and the respective energy consumption values.\n",
        "This dictionary is then appended to the data list."
      ],
      "metadata": {
        "id": "9sJCEmhalau2"
      }
    },
    {
      "cell_type": "code",
      "source": [
        "return data\n"
      ],
      "metadata": {
        "id": "rUYSMlfMleil"
      },
      "execution_count": null,
      "outputs": []
    },
    {
      "cell_type": "markdown",
      "source": [
        "After all months have been processed, the function returns the data list containing dictionaries for each month."
      ],
      "metadata": {
        "id": "plGQ_nczlia_"
      }
    },
    {
      "cell_type": "markdown",
      "source": [
        "#full coding\n"
      ],
      "metadata": {
        "id": "t5Aoh7WSmRp1"
      }
    },
    {
      "cell_type": "code",
      "source": [
        "import matplotlib.pyplot as plt\n",
        "\n",
        "# Function to input monthly energy consumption data\n",
        "def input_energy_data():\n",
        "    data = []\n",
        "    months = ['January', 'February', 'March', 'April', 'May', 'June', 'July', 'August', 'September', 'October', 'November', 'December']\n",
        "    for month in months:\n",
        "        print(f\"Enter energy consumption data for {month}:\")\n",
        "        electricity = float(input(\"Electricity usage (kWh): \"))\n",
        "        gas = float(input(\"Gas usage (cubic meters): \"))\n",
        "        water = float(input(\"Water usage (cubic meters): \"))\n",
        "        data.append({'Month': month, 'Electricity': electricity, 'Gas': gas, 'Water': water})\n",
        "    return data\n"
      ],
      "metadata": {
        "id": "LRKEZcUnmY6Q"
      },
      "execution_count": 9,
      "outputs": []
    },
    {
      "cell_type": "markdown",
      "source": [
        "#second step"
      ],
      "metadata": {
        "id": "gqyLrSItmkU-"
      }
    },
    {
      "cell_type": "code",
      "source": [
        "def visualize_monthly_trends(data):\n"
      ],
      "metadata": {
        "id": "5nS5QsnPmrx_"
      },
      "execution_count": null,
      "outputs": []
    },
    {
      "cell_type": "markdown",
      "source": [
        "This function, visualize_monthly_trends, takes one parameter, data, which is expected to be a list of dictionaries. Each dictionary contains monthly energy consumption data for electricity, gas, and water."
      ],
      "metadata": {
        "id": "rKODxmWKmwmq"
      }
    },
    {
      "cell_type": "code",
      "source": [
        "    months = [entry['Month'] for entry in data]\n",
        "    electricity = [entry['Electricity'] for entry in data]\n",
        "    gas = [entry['Gas'] for entry in data]\n",
        "    water = [entry['Water'] for entry in data]\n"
      ],
      "metadata": {
        "id": "DrKce6-EmzAZ"
      },
      "execution_count": null,
      "outputs": []
    },
    {
      "cell_type": "markdown",
      "source": [
        "The function uses list comprehensions to extract specific pieces of information from the data list:\n",
        "\n",
        "    months: A list of month names.\n",
        "    electricity: A list of electricity consumption values.\n",
        "    gas: A list of gas consumption values.\n",
        "    water: A list of water consumption values."
      ],
      "metadata": {
        "id": "KlzsuT2zm3pp"
      }
    },
    {
      "cell_type": "code",
      "source": [
        "    plt.figure(figsize=(10, 5))\n"
      ],
      "metadata": {
        "id": "m95lwdllm6g6"
      },
      "execution_count": null,
      "outputs": []
    },
    {
      "cell_type": "markdown",
      "source": [
        "plt.figure(figsize=(10, 5)) creates a new figure for plotting with a size of 10 inches wide by 5 inches tall."
      ],
      "metadata": {
        "id": "rb1ZNELMnHTK"
      }
    },
    {
      "cell_type": "code",
      "source": [
        "    plt.plot(months, electricity, label='Electricity', marker='o')\n",
        "    plt.plot(months, gas, label='Gas', marker='o')\n",
        "    plt.plot(months, water, label='Water', marker='o')\n"
      ],
      "metadata": {
        "id": "h6h2ZLIQnLKE"
      },
      "execution_count": null,
      "outputs": []
    },
    {
      "cell_type": "markdown",
      "source": [
        "plt.plot() is used to create line plots for each type of consumption (electricity, gas, and water):\n",
        "\n",
        "    The first argument is the months list (x-axis values).\n",
        "    The second argument is the respective consumption list (y-axis values).\n",
        "    label specifies the legend label for each line.\n",
        "    marker='o' adds circular markers at each data point on the plot."
      ],
      "metadata": {
        "id": "xKjL1KgCnPO9"
      }
    },
    {
      "cell_type": "code",
      "source": [
        "    plt.title('Monthly Energy Consumption Trends')\n",
        "    plt.xlabel('Month')\n",
        "    plt.ylabel('Consumption')\n"
      ],
      "metadata": {
        "id": "0jIyvXQznSvR"
      },
      "execution_count": null,
      "outputs": []
    },
    {
      "cell_type": "markdown",
      "source": [
        "plt.title(), plt.xlabel(), and plt.ylabel() add a title to the plot and labels to the x-axis and y-axis, respectively."
      ],
      "metadata": {
        "id": "9Gn-66VBnXq1"
      }
    },
    {
      "cell_type": "code",
      "source": [
        "    plt.legend()\n"
      ],
      "metadata": {
        "id": "3EYuJ0HFnfoI"
      },
      "execution_count": null,
      "outputs": []
    },
    {
      "cell_type": "markdown",
      "source": [
        "plt.legend() displays a legend on the plot to identify each line (Electricity, Gas, Water)"
      ],
      "metadata": {
        "id": "wVcgs3PmnqJ1"
      }
    },
    {
      "cell_type": "code",
      "source": [
        "    plt.grid(True)\n",
        "    plt.xticks(rotation=45)\n",
        "    plt.tight_layout()\n"
      ],
      "metadata": {
        "id": "AUgc_4dfnswe"
      },
      "execution_count": null,
      "outputs": []
    },
    {
      "cell_type": "markdown",
      "source": [
        "plt.grid(True) adds a grid to the plot for better readability.\n",
        "plt.xticks(rotation=45) rotates the x-axis labels by 45 degrees to make them easier to read.\n",
        "plt.tight_layout() adjusts the plot layout to ensure everything fits within the figure area and does not overlap."
      ],
      "metadata": {
        "id": "3VhjzSKPnxhf"
      }
    },
    {
      "cell_type": "code",
      "source": [
        "    plt.show()\n"
      ],
      "metadata": {
        "id": "BckygsL9n5bF"
      },
      "execution_count": null,
      "outputs": []
    },
    {
      "cell_type": "markdown",
      "source": [
        "plt.show() displays the plot on the screen."
      ],
      "metadata": {
        "id": "y0Asappxn85P"
      }
    },
    {
      "cell_type": "markdown",
      "source": [
        "#full code"
      ],
      "metadata": {
        "id": "-yMcMCNHn_Wp"
      }
    },
    {
      "cell_type": "code",
      "source": [
        "# Function to visualize monthly consumption trends\n",
        "def visualize_monthly_trends(data):\n",
        "    months = [entry['Month'] for entry in data]\n",
        "    electricity = [entry['Electricity'] for entry in data]\n",
        "    gas = [entry['Gas'] for entry in data]\n",
        "    water = [entry['Water'] for entry in data]\n",
        "\n",
        "    plt.figure(figsize=(10, 5))\n",
        "    plt.plot(months, electricity, label='Electricity', marker='o')\n",
        "    plt.plot(months, gas, label='Gas', marker='o')\n",
        "    plt.plot(months, water, label='Water', marker='o')\n",
        "    plt.title('Monthly Energy Consumption Trends')\n",
        "    plt.xlabel('Month')\n",
        "    plt.ylabel('Consumption')\n",
        "    plt.legend()\n",
        "    plt.grid(True)\n",
        "    plt.xticks(rotation=45)\n",
        "    plt.tight_layout()\n",
        "    plt.show()\n",
        "\n"
      ],
      "metadata": {
        "id": "55UmKS_0oG2i"
      },
      "execution_count": 12,
      "outputs": []
    },
    {
      "cell_type": "markdown",
      "source": [
        "#next step"
      ],
      "metadata": {
        "id": "4qr0_AiWpGES"
      }
    },
    {
      "cell_type": "code",
      "source": [
        "def compare_energy_types(data):\n"
      ],
      "metadata": {
        "id": "5a2fg6kUpJyf"
      },
      "execution_count": null,
      "outputs": []
    },
    {
      "cell_type": "markdown",
      "source": [
        "Defines the function compare_energy_types which takes a single parameter data. This parameter is expected to be a list of dictionaries containing energy consumption data."
      ],
      "metadata": {
        "id": "oa6Jha4OpdRa"
      }
    },
    {
      "cell_type": "code",
      "source": [
        "    total_electricity = sum(entry['Electricity'] for entry in data)\n",
        "    total_gas = sum(entry['Gas'] for entry in data)\n",
        "    total_water = sum(entry['Water'] for entry in data)\n"
      ],
      "metadata": {
        "id": "iBbiz9wHpfl3"
      },
      "execution_count": null,
      "outputs": []
    },
    {
      "cell_type": "markdown",
      "source": [
        "Computes the total consumption for each energy type by summing the respective values across all entries in the data list:\n",
        "\n",
        "    total_electricity sums up all electricity consumption values.\n",
        "    total_gas sums up all gas consumption values.\n",
        "    total_water sums up all water consumption values."
      ],
      "metadata": {
        "id": "0ZuuJJl4p0X4"
      }
    },
    {
      "cell_type": "code",
      "source": [
        "    categories = ['Electricity', 'Gas', 'Water']\n",
        "    consumption = [total_electricity, total_gas, total_water]\n"
      ],
      "metadata": {
        "id": "jywlhoUVp3Sp"
      },
      "execution_count": null,
      "outputs": []
    },
    {
      "cell_type": "markdown",
      "source": [
        "Creates a list of categories (energy types) and a corresponding list of total consumption values."
      ],
      "metadata": {
        "id": "G_YF6wASp5yX"
      }
    },
    {
      "cell_type": "code",
      "source": [
        "    plt.figure(figsize=(7, 5))\n",
        "    plt.bar(categories, consumption, color=['blue', 'orange', 'green'])\n"
      ],
      "metadata": {
        "id": "8CRJCXXEp8jQ"
      },
      "execution_count": null,
      "outputs": []
    },
    {
      "cell_type": "markdown",
      "source": [
        "Initializes a new figure with a size of 7 inches wide by 5 inches tall.\n",
        "Plots a bar chart with categories on the x-axis and total consumption values on the y-axis. Different colors are assigned to each bar for clarity."
      ],
      "metadata": {
        "id": "nHJiIWcUqAOC"
      }
    },
    {
      "cell_type": "code",
      "source": [
        "    plt.title('Energy Consumption by Type')\n",
        "    plt.xlabel('Energy Type')\n",
        "    plt.ylabel('Total Consumption')\n"
      ],
      "metadata": {
        "id": "zjVKq-qYqCmq"
      },
      "execution_count": null,
      "outputs": []
    },
    {
      "cell_type": "markdown",
      "source": [
        "Adds a title to the chart and labels for the x-axis and y-axis."
      ],
      "metadata": {
        "id": "c0Ta9hxKqIHa"
      }
    },
    {
      "cell_type": "code",
      "source": [
        "    plt.grid(axis='y')\n",
        "    plt.tight_layout()\n",
        "    plt.show()\n"
      ],
      "metadata": {
        "id": "YrW59lptqPEh"
      },
      "execution_count": null,
      "outputs": []
    },
    {
      "cell_type": "markdown",
      "source": [
        "Adds a horizontal grid to the chart for better readability of the y-axis values.\n",
        "Adjusts the layout to fit all elements properly.\n",
        "Displays the chart."
      ],
      "metadata": {
        "id": "r-kAi6f4qg3g"
      }
    },
    {
      "cell_type": "code",
      "source": [
        "def annual_consumption_breakdown(data):\n"
      ],
      "metadata": {
        "id": "1ah0lOjyqkyJ"
      },
      "execution_count": null,
      "outputs": []
    },
    {
      "cell_type": "markdown",
      "source": [
        "Defines the function annual_consumption_breakdown, which also takes a single parameter data. This parameter is expected to be a list of dictionaries containing energy consumption data."
      ],
      "metadata": {
        "id": "Sj3CF7TbqnMe"
      }
    },
    {
      "cell_type": "code",
      "source": [
        "    total_electricity = sum(entry['Electricity'] for entry in data)\n",
        "    total_gas = sum(entry['Gas'] for entry in data)\n",
        "    total_water = sum(entry['Water'] for entry in data)\n"
      ],
      "metadata": {
        "id": "N9xTDTozqqYt"
      },
      "execution_count": null,
      "outputs": []
    },
    {
      "cell_type": "markdown",
      "source": [
        "Similar to the previous function, it calculates the total consumption for each energy type."
      ],
      "metadata": {
        "id": "9jL9bIXwqthW"
      }
    },
    {
      "cell_type": "code",
      "source": [
        "    categories = ['Electricity', 'Gas', 'Water']\n",
        "    consumption = [total_electricity, total_gas, total_water]\n"
      ],
      "metadata": {
        "id": "e-kzb7AYqxrg"
      },
      "execution_count": null,
      "outputs": []
    },
    {
      "cell_type": "markdown",
      "source": [
        "Creates lists of energy categories and their corresponding total consumption values."
      ],
      "metadata": {
        "id": "k-DDHCaBq1uu"
      }
    },
    {
      "cell_type": "code",
      "source": [
        "    plt.pie(consumption, labels=categories, autopct='%1.1f%%', startangle=140)\n"
      ],
      "metadata": {
        "id": "vZxV999rq5eK"
      },
      "execution_count": null,
      "outputs": []
    },
    {
      "cell_type": "markdown",
      "source": [
        "Creates a pie chart to visualize the proportion of each energy type’s consumption.\n",
        "\n",
        "    consumption is the list of total consumption values.\n",
        "    labels provides the names for each segment.\n",
        "    autopct='%1.1f%%' displays the percentage of each segment in the pie chart.\n",
        "    startangle=140 rotates the starting point of the pie chart for better visual alignment."
      ],
      "metadata": {
        "id": "bQpp0xQtq8lF"
      }
    },
    {
      "cell_type": "code",
      "source": [
        "    plt.title('Annual Energy Consumption Breakdown')\n",
        "    plt.axis('equal')\n",
        "    plt.tight_layout()\n",
        "    plt.show()\n"
      ],
      "metadata": {
        "id": "FeUX8Doyq_oh"
      },
      "execution_count": null,
      "outputs": []
    },
    {
      "cell_type": "markdown",
      "source": [
        "Adds a title to the pie chart.\n",
        "plt.axis('equal') ensures that the pie chart is a perfect circle.\n",
        "Adjusts the layout to fit all elements properly.\n",
        "Displays the chart."
      ],
      "metadata": {
        "id": "UR_nznVDrCgP"
      }
    },
    {
      "cell_type": "markdown",
      "source": [
        "#full code"
      ],
      "metadata": {
        "id": "3ioU18iVrEL7"
      }
    },
    {
      "cell_type": "code",
      "source": [
        "# Function to compare energy types by consumption\n",
        "def compare_energy_types(data):\n",
        "    total_electricity = sum(entry['Electricity'] for entry in data)\n",
        "    total_gas = sum(entry['Gas'] for entry in data)\n",
        "    total_water = sum(entry['Water'] for entry in data)\n",
        "\n",
        "    categories = ['Electricity', 'Gas', 'Water']\n",
        "    consumption = [total_electricity, total_gas, total_water]\n",
        "    plt.figure(figsize=(7, 5))\n",
        "    plt.bar(categories, consumption, color=['blue', 'orange', 'green'])\n",
        "    plt.title('Energy Consumption by Type')\n",
        "    plt.xlabel('Energy Type')\n",
        "    plt.ylabel('Total Consumption')\n",
        "    plt.grid(axis='y')\n",
        "    plt.tight_layout()\n",
        "    plt.show()\n",
        "\n",
        "# Function to show annual total consumption breakdown by energy type\n",
        "def annual_consumption_breakdown(data):\n",
        "    total_electricity = sum(entry['Electricity'] for entry in data)\n",
        "    total_gas = sum(entry['Gas'] for entry in data)\n",
        "    total_water = sum(entry['Water'] for entry in data)\n",
        "\n",
        "    categories = ['Electricity', 'Gas', 'Water']\n",
        "    consumption = [total_electricity, total_gas, total_water]\n",
        "\n",
        "    plt.pie(consumption, labels=categories, autopct='%1.1f%%', startangle=140)\n",
        "    plt.title('Annual Energy Consumption Breakdown')\n",
        "    plt.axis('equal')\n",
        "    plt.tight_layout()\n",
        "    plt.show()\n"
      ],
      "metadata": {
        "id": "HuMLHbM9rLzL"
      },
      "execution_count": 13,
      "outputs": []
    },
    {
      "cell_type": "markdown",
      "source": [
        "#final code"
      ],
      "metadata": {
        "id": "NkNTrO0xrf4G"
      }
    },
    {
      "cell_type": "code",
      "source": [
        "def main():\n",
        "    print(\"Welcome to the Energy Consumption Analysis Tool\")\n",
        "    data = input_energy_data()\n"
      ],
      "metadata": {
        "id": "GCy1ZOxGrjd8"
      },
      "execution_count": null,
      "outputs": []
    },
    {
      "cell_type": "markdown",
      "source": [
        "Introduction and Data Input:\n",
        "\n",
        "    The function begins by printing a welcome message.\n",
        "    data = input_energy_data() calls the input_energy_data() function (assumed to be defined elsewhere) to gather energy consumption data from the user and store it in the data variable."
      ],
      "metadata": {
        "id": "Bylxqd8Oroik"
      }
    },
    {
      "cell_type": "code",
      "source": [
        "    while True:\n",
        "        print(\"\\nSelect an analysis option:\")\n",
        "        print(\"1. Monthly Consumption Trends\")\n",
        "        print(\"2. Comparison of Energy Types by Consumption\")\n",
        "        print(\"3. Annual Total Consumption Breakdown by Energy Type\")\n",
        "        print(\"4. Exit\")\n",
        "        choice = input(\"Enter your choice (1-4): \")\n"
      ],
      "metadata": {
        "id": "UqQ_SMKmrrSt"
      },
      "execution_count": null,
      "outputs": []
    },
    {
      "cell_type": "markdown",
      "source": [
        "Menu Display and User Input:\n",
        "\n",
        "    An infinite loop (while True:) is used to continuously present the user with a menu of options until they choose to exit.\n",
        "    The options available are:\n",
        "        1.Monthly Consumption Trends\n",
        "        2.Comparison of Energy Types by Consumption\n",
        "        3.Annual Total Consumption Breakdown by Energy Type\n",
        "       4. Exit\n",
        "    The input() function captures the user's choice as a string and stores it in the choice variable."
      ],
      "metadata": {
        "id": "hei5-ehPrwCl"
      }
    },
    {
      "cell_type": "code",
      "source": [
        "        if choice == '1':\n",
        "            visualize_monthly_trends(data)\n",
        "        elif choice == '2':\n",
        "            compare_energy_types(data)\n",
        "        elif choice == '3':\n",
        "            annual_consumption_breakdown(data)\n",
        "        elif choice == '4':\n",
        "            print(\"Thank you for using the Energy Consumption Analysis Tool. Goodbye!\")\n",
        "            break\n",
        "        else:\n",
        "            print(\"Invalid choice. Please enter a number between 1 and 4.\")\n"
      ],
      "metadata": {
        "id": "pItSc5eIr8rz"
      },
      "execution_count": null,
      "outputs": []
    },
    {
      "cell_type": "markdown",
      "source": [
        "Processing User Choice:\n",
        "\n",
        "    Depending on the user's input (choice), the corresponding function is called:\n",
        "        '1': Calls visualize_monthly_trends(data) to show a graph of monthly energy consumption trends.\n",
        "        '2': Calls compare_energy_types(data) to display a bar chart comparing total energy consumption by type.\n",
        "        '3': Calls annual_consumption_breakdown(data) to show a pie chart of annual consumption breakdown by energy type.\n",
        "        '4': Prints a farewell message and exits the loop using break, ending the program.\n",
        "    If the user's input is invalid (not between '1' and '4'), it prints an error message and prompts the user to enter a valid option again."
      ],
      "metadata": {
        "id": "ygXj_UaasG75"
      }
    },
    {
      "cell_type": "code",
      "source": [
        "if __name__ == \"__main__\":\n",
        "    main()\n"
      ],
      "metadata": {
        "id": "z3LkduGRsMHn"
      },
      "execution_count": null,
      "outputs": []
    },
    {
      "cell_type": "markdown",
      "source": [
        "This block checks if the script is being run as the main program. If true, it calls the main() function to start the program.\n",
        "__name__ is a special built-in variable that is set to \"__main__\" when the script is executed directly. This prevents the main() function from running if the script is imported as a module in another script."
      ],
      "metadata": {
        "id": "sRvEcj-8sQEk"
      }
    },
    {
      "cell_type": "markdown",
      "source": [
        "#final code"
      ],
      "metadata": {
        "id": "2JdDBYeCsVmn"
      }
    },
    {
      "cell_type": "code",
      "source": [
        "def main():\n",
        "    print(\"Welcome to the Energy Consumption Analysis Tool\")\n",
        "    data = input_energy_data()\n",
        "\n",
        "    while True:\n",
        "        print(\"\\nSelect an analysis option:\")\n",
        "        print(\"1. Monthly Consumption Trends\")\n",
        "        print(\"2. Comparison of Energy Types by Consumption\")\n",
        "        print(\"3. Annual Total Consumption Breakdown by Energy Type\")\n",
        "        print(\"4. Exit\")\n",
        "        choice = input(\"Enter your choice (1-4): \")\n",
        "\n",
        "        if choice == '1':\n",
        "            visualize_monthly_trends(data)\n",
        "        elif choice == '2':\n",
        "            compare_energy_types(data)\n",
        "        elif choice == '3':\n",
        "            annual_consumption_breakdown(data)\n",
        "        elif choice == '4':\n",
        "            print(\"Thank you for using the Energy Consumption Analysis Tool. Goodbye!\")\n",
        "            break\n",
        "        else:\n",
        "            print(\"Invalid choice. Please enter a number between 1 and 4.\")\n",
        "\n",
        "if __name__ == \"__main__\":\n",
        "    main()\n"
      ],
      "metadata": {
        "colab": {
          "base_uri": "https://localhost:8080/",
          "height": 1000
        },
        "id": "IX3cE5dCsY-B",
        "outputId": "8cac0cbf-8a71-4aff-ff2b-ff9c1753f9d1"
      },
      "execution_count": null,
      "outputs": [
        {
          "name": "stdout",
          "output_type": "stream",
          "text": [
            "Welcome to the Energy Consumption Analysis Tool\n",
            "Enter energy consumption data for January:\n",
            "Electricity usage (kWh): 98\n",
            "Gas usage (cubic meters): 99\n",
            "Water usage (cubic meters): 8\n",
            "Enter energy consumption data for February:\n",
            "Electricity usage (kWh): 87\n",
            "Gas usage (cubic meters): 78\n",
            "Water usage (cubic meters): 87\n",
            "Enter energy consumption data for March:\n",
            "Electricity usage (kWh): 90\n",
            "Gas usage (cubic meters): 43\n",
            "Water usage (cubic meters): 98\n",
            "Enter energy consumption data for April:\n",
            "Electricity usage (kWh): 33\n",
            "Gas usage (cubic meters): 33\n",
            "Water usage (cubic meters): 45\n",
            "Enter energy consumption data for May:\n",
            "Electricity usage (kWh): 44\n",
            "Gas usage (cubic meters): 55\n",
            "Water usage (cubic meters): 22\n",
            "Enter energy consumption data for June:\n",
            "Electricity usage (kWh): 22\n",
            "Gas usage (cubic meters): 44\n",
            "Water usage (cubic meters): 55\n",
            "Enter energy consumption data for July:\n",
            "Electricity usage (kWh): 66\n",
            "Gas usage (cubic meters): 77\n",
            "Water usage (cubic meters): 77\n",
            "Enter energy consumption data for August:\n",
            "Electricity usage (kWh): 55\n",
            "Gas usage (cubic meters): 77\n",
            "Water usage (cubic meters): 44\n",
            "Enter energy consumption data for September:\n",
            "Electricity usage (kWh): 55\n",
            "Gas usage (cubic meters): 33\n",
            "Water usage (cubic meters): 66\n",
            "Enter energy consumption data for October:\n",
            "Electricity usage (kWh): 44\n",
            "Gas usage (cubic meters): 34\n",
            "Water usage (cubic meters): 77\n",
            "Enter energy consumption data for November:\n",
            "Electricity usage (kWh): 44\n",
            "Gas usage (cubic meters): 55\n",
            "Water usage (cubic meters): 66\n",
            "Enter energy consumption data for December:\n",
            "Electricity usage (kWh): 77\n",
            "Gas usage (cubic meters): 44\n",
            "Water usage (cubic meters): 66\n",
            "\n",
            "Select an analysis option:\n",
            "1. Monthly Consumption Trends\n",
            "2. Comparison of Energy Types by Consumption\n",
            "3. Annual Total Consumption Breakdown by Energy Type\n",
            "4. Exit\n",
            "Enter your choice (1-4): 1\n"
          ]
        },
        {
          "output_type": "display_data",
          "data": {
            "text/plain": [
              "<Figure size 1000x500 with 1 Axes>"
            ],
            "image/png": "[encoded data removed]"
          },
          "metadata": {}
        },
        {
          "output_type": "stream",
          "name": "stdout",
          "text": [
            "\n",
            "Select an analysis option:\n",
            "1. Monthly Consumption Trends\n",
            "2. Comparison of Energy Types by Consumption\n",
            "3. Annual Total Consumption Breakdown by Energy Type\n",
            "4. Exit\n"
          ]
        }
      ]
    }
  ]
}