{
  "cells": [
    {
      "cell_type": "markdown",
      "metadata": {
        "id": "view-in-github",
        "colab_type": "text"
      },
      "source": [
        "<a href=\"https://colab.research.google.com/github/isys5002-itp/ISYS5002-2024-S1/blob/main/03_1_payslip.ipynb\" target=\"_parent\"><img src=\"https://colab.research.google.com/assets/colab-badge.svg\" alt=\"Open In Colab\"/></a>"
      ]
    },
    {
      "cell_type": "markdown",
      "metadata": {
        "id": "kF8ldRydTDPx"
      },
      "source": [
        "# Payslip\n",
        "\n",
        "A payslip is a document that shows their total wages earned for a set period.\n",
        "This might be from a salary, hourly wages or commission. Payslips are also know as ‘pay advice’.  Traditionally the payslip was a paper document attached. Today\n",
        "most organisations provide them electronically.\n",
        "\n",
        "## Task 0 - Import into GitHub\n",
        "First, import the notebook into Colab and save an initial copy to GitHub.\n",
        "\n",
        "## Task 1 - Start Simple\n",
        "\n",
        "Writing complete robust programs can take time.  Often the more we understand a problem the easier it is to implement the solution.   One approach is to implement the simplest version of a program and then slowly add functionality.\n",
        "\n",
        "This notebook aims to start simple and slowly build up the program.\n",
        "The approach we take below is one way to understand a problem, step 1 of our development process. Complex projects, often follow a similar idea\n",
        "where they implement a minimal program, and each week or month has intense periods where the team adds functionality.  These advanced methodologies are beyond the scope of an introductory programming course but by starting small and slowly adding functionality we do capture the essence of the process.\n",
        "\n",
        "\n",
        "### The Initial (minimal) Program\n",
        "\n",
        "Consider 'Ram' who has a salary of \\$25,000.  They have sold goods worth $20,000 and earn a 2% commission on the sales. They fall into the 10% tax bracket. We will talk about tax brackets in another notebook. Before making payments the organisation needs to deduct 10% tax.\n",
        "\n",
        "We need to program to print out a payslip for salespeople. Our payslip\n",
        "is very simple, we need a title, the amount of salary, the amount of commission, the amount of tax, and the total pay.\n",
        "\n",
        "Run the following program for one person."
      ]
    },
    {
      "cell_type": "code",
      "execution_count": 1,
      "metadata": {
        "id": "2UenEHfcTuLz",
        "colab": {
          "base_uri": "https://localhost:8080/"
        },
        "outputId": "0245d6db-60be-4ee9-a4e2-8011bae2639d"
      },
      "outputs": [
        {
          "output_type": "stream",
          "name": "stdout",
          "text": [
            "=== Payslip of Ram ===\n",
            "Salary:     25000 \n",
            "Commission: 400.0 \n",
            "Tax:        2540.0\n",
            "Total pay:  22860.0\n"
          ]
        }
      ],
      "source": [
        "# assign values for salar and sales\n",
        "salary = 25000\n",
        "sales = 20000\n",
        "\n",
        "# calculate the commision\n",
        "commission = 0.02 * sales # (2/100) * sales\n",
        "\n",
        "# calculate the tax\n",
        "tax = (salary + commission) * 0.10\n",
        "\n",
        "# calculate the pay\n",
        "pay = salary + commission - tax\n",
        "\n",
        "# print the payslip\n",
        "print('=== Payslip of Ram ===')\n",
        "print(f\"Salary: {salary:9} \\nCommission: {commission:} \\nTax: {tax:13}\")\n",
        "print(f\"Total pay: {pay:8}\")\n"
      ]
    },
    {
      "cell_type": "markdown",
      "metadata": {
        "id": "QzcJGzRBUDz2"
      },
      "source": [
        "Now, consider 'Radha' who has a salary of \\$30,000.  They have sold goods worth $40,000 and earns 2.5% commision on the sales. They fall into the 10% tax bracket and so before making payments we need to deduct 10% form their total payout."
      ]
    },
    {
      "cell_type": "code",
      "execution_count": 7,
      "metadata": {
        "id": "wFmuD9ujUgDW",
        "colab": {
          "base_uri": "https://localhost:8080/"
        },
        "outputId": "dd316658-e9e6-4fac-fcc6-e38e6432c3c2"
      },
      "outputs": [
        {
          "output_type": "stream",
          "name": "stdout",
          "text": [
            "=== Payslip of Radha ===\n",
            "Salary:     30000 \n",
            "Commission: 1000.0 \n",
            "Tax:        3100.0\n",
            "Total pay:  27900.0\n"
          ]
        }
      ],
      "source": [
        "# assign values for salar and sales\n",
        "salary = 30000\n",
        "sales = 40000\n",
        "\n",
        "# calculate the commision\n",
        "commission = 0.025 * sales # (2/100) * sales\n",
        "\n",
        "# calculate the tax\n",
        "tax = (salary + commission) * 0.10\n",
        "\n",
        "# calculate the pay\n",
        "pay = salary + commission - tax\n",
        "\n",
        "# print the payslip\n",
        "print('=== Payslip of Radha ===')\n",
        "print(f\"Salary: {salary:9} \\nCommission: {commission:} \\nTax: {tax:13}\")\n",
        "print(f\"Total pay: {pay:8}\")"
      ]
    },
    {
      "cell_type": "markdown",
      "metadata": {
        "id": "UFGObxq7UlvE"
      },
      "source": [
        "## Task 2 - Generalise\n",
        "\n",
        "What details did we change from Ram to Radha?\n",
        "\n",
        "salary, sales, commission, name"
      ]
    },
    {
      "cell_type": "code",
      "execution_count": 51,
      "metadata": {
        "id": "zMEi9q1dUr36"
      },
      "outputs": [],
      "source": [
        "def calculate_pay(salary, sales, comm_rate):\n",
        "  '''\n",
        "  This function\n",
        "  input: salary, sales, comm_rate\n",
        "  computes commision, tax and pay\n",
        "  returns commission, tax and pay\n",
        "  '''\n",
        "  # calculate the commision\n",
        "  commission = (comm_rate/100) * sales\n",
        "  # print(commission)\n",
        "\n",
        "  # calculate the tax\n",
        "  tax = (salary + commission) * 0.10\n",
        "  # print(tax)\n",
        "\n",
        "  # calculate the pay\n",
        "  pay = salary + commission - tax\n",
        "  # print(pay)\n",
        "\n",
        "  return commission, tax, pay"
      ]
    },
    {
      "cell_type": "code",
      "source": [
        "# assign values for salar and sales\n",
        "salary = 30000\n",
        "sales = 40000\n",
        "commRate = 2\n",
        "\n",
        "# return values - when more than one value is returned from the functions, these values are returned as tuple\n",
        "return_value = calculate_pay(salary, sales, commRate)\n",
        "\n",
        "# unpack the value in tuple into individual variables\n",
        "commission, tax, pay = return_value\n"
      ],
      "metadata": {
        "id": "hmP3V6DTSwqW"
      },
      "execution_count": 37,
      "outputs": []
    },
    {
      "cell_type": "code",
      "source": [
        "help(calculate_pay)"
      ],
      "metadata": {
        "id": "nchoADCbZJXj"
      },
      "execution_count": null,
      "outputs": []
    },
    {
      "cell_type": "code",
      "source": [
        "help(input)"
      ],
      "metadata": {
        "id": "DbTczkataD38"
      },
      "execution_count": null,
      "outputs": []
    },
    {
      "cell_type": "markdown",
      "metadata": {
        "id": "7PrlmDmYV6iX"
      },
      "source": [
        "Make what we changed as inputs (parameters) to a function"
      ]
    },
    {
      "cell_type": "code",
      "source": [
        "# Get user inputs\n",
        "name = input(\"Enter name of salesperson: \")\n",
        "salary = float(input(\"Enter salary: \"))\n",
        "sales = float(input(\"Enter sales amount: \"))\n",
        "commRate = float(input(\"Enter commission rate: \"))\n"
      ],
      "metadata": {
        "colab": {
          "base_uri": "https://localhost:8080/"
        },
        "id": "WGQ0ofvFcOo9",
        "outputId": "e478ae02-4d67-4761-8e60-2655c01a9128"
      },
      "execution_count": 52,
      "outputs": [
        {
          "name": "stdout",
          "output_type": "stream",
          "text": [
            "Enter name of salesperson: Ram\n",
            "Enter salary: 20000\n",
            "Enter sales amount: 30000\n",
            "Enter commission rate: 2\n"
          ]
        }
      ]
    },
    {
      "cell_type": "code",
      "source": [
        "# doing the computation - calling the calculate_pay function\n",
        "commission, tax, pay = calculate_pay(salary, sales, commRate)"
      ],
      "metadata": {
        "id": "Qq71i6P_dGZc"
      },
      "execution_count": 54,
      "outputs": []
    },
    {
      "cell_type": "code",
      "execution_count": 55,
      "metadata": {
        "id": "cJwgf8nZWDF6",
        "colab": {
          "base_uri": "https://localhost:8080/"
        },
        "outputId": "c4d4331c-53b4-4660-f80c-d850a223eeb9"
      },
      "outputs": [
        {
          "output_type": "stream",
          "name": "stdout",
          "text": [
            "=== Payslip of Ram ===\n",
            "Salary:   20000.0 \n",
            "Commission: 600.0 \n",
            "Tax:        2060.0\n",
            "Total pay:  18540.0\n"
          ]
        }
      ],
      "source": [
        "#rint the payslip\n",
        "print(f'=== Payslip of {name} ===')\n",
        "print(f\"Salary: {salary:9} \\nCommission: {commission:} \\nTax: {tax:13}\")\n",
        "print(f\"Total pay: {pay:8}\")\n"
      ]
    },
    {
      "cell_type": "markdown",
      "source": [
        "## Putting all as functions"
      ],
      "metadata": {
        "id": "xip5QX70d9g0"
      }
    },
    {
      "cell_type": "code",
      "source": [
        "#input fucntion\n",
        "\n",
        "def user_input():\n",
        "  name = input(\"Enter name of salesperson: \")\n",
        "  salary = float(input(\"Enter salary: \"))\n",
        "  sales = float(input(\"Enter sales amount: \"))\n",
        "  commRate = float(input(\"Enter commission rate: \"))\n",
        "\n",
        "  return name, salary, sales, commRate\n"
      ],
      "metadata": {
        "id": "CVzs_2pdeA38"
      },
      "execution_count": 56,
      "outputs": []
    },
    {
      "cell_type": "code",
      "source": [
        "def calculate_pay(salary, sales, comm_rate):\n",
        "  '''\n",
        "  This function\n",
        "  input: salary, sales, comm_rate\n",
        "  computes commision, tax and pay\n",
        "  returns commission, tax and pay\n",
        "  '''\n",
        "  # calculate the commision\n",
        "  commission = (comm_rate/100) * sales\n",
        "  # print(commission)\n",
        "\n",
        "  # calculate the tax\n",
        "  tax = (salary + commission) * 0.10\n",
        "  # print(tax)\n",
        "\n",
        "  # calculate the pay\n",
        "  pay = salary + commission - tax\n",
        "  # print(pay)\n",
        "\n",
        "  return commission, tax, pay"
      ],
      "metadata": {
        "id": "w21z4iK9eMdd"
      },
      "execution_count": 57,
      "outputs": []
    },
    {
      "cell_type": "code",
      "source": [
        "# payslip printing function\n",
        "\n",
        "def print_payslip(name, salary, commission, tax_amt, pay):\n",
        "  print(f'\\n=== Payslip of {name} ===')\n",
        "  print(f\"Salary: {salary:9} \\nCommission: {commission:} \\nTax: {tax:13}\")\n",
        "  print(f\"Total pay: {pay:8}\")"
      ],
      "metadata": {
        "id": "EWCkJ1N6eRq9"
      },
      "execution_count": 61,
      "outputs": []
    },
    {
      "cell_type": "code",
      "source": [
        "name, salary, sales, comm_rate = user_input()\n",
        "\n",
        "commission, tax_amt, pay = calculate_pay(salary, sales, comm_rate)\n",
        "\n",
        "print_payslip(name, salary, commission, tax_amt, pay)"
      ],
      "metadata": {
        "colab": {
          "base_uri": "https://localhost:8080/"
        },
        "id": "s0M_mkBMekb9",
        "outputId": "35cb3d98-ec19-4394-a676-ac945f0c08cb"
      },
      "execution_count": 62,
      "outputs": [
        {
          "output_type": "stream",
          "name": "stdout",
          "text": [
            "Enter name of salesperson: Radha\n",
            "Enter salary: 30000\n",
            "Enter sales amount: 40000\n",
            "Enter commission rate: 2.5\n",
            "\n",
            "=== Payslip of Radha ===\n",
            "Salary:   30000.0 \n",
            "Commission: 1000.0 \n",
            "Tax:        2060.0\n",
            "Total pay:  27900.0\n"
          ]
        }
      ]
    }
  ],
  "metadata": {
    "colab": {
      "provenance": [],
      "include_colab_link": true
    },
    "kernelspec": {
      "display_name": "Python 3",
      "language": "python",
      "name": "python3"
    },
    "language_info": {
      "codemirror_mode": {
        "name": "ipython",
        "version": 3
      },
      "file_extension": ".py",
      "mimetype": "text/x-python",
      "name": "python",
      "nbconvert_exporter": "python",
      "pygments_lexer": "ipython3",
      "version": "3.8.8"
    }
  },
  "nbformat": 4,
  "nbformat_minor": 0
}